{
 "cells": [
  {
   "cell_type": "markdown",
   "metadata": {
    "application/vnd.databricks.v1+cell": {
     "cellMetadata": {
      "byteLimit": 2048000,
      "rowLimit": 10000
     },
     "inputWidgets": {},
     "nuid": "d1cefac3-711a-48e4-a63f-44a9ba5eafd9",
     "showTitle": false,
     "tableResultSettingsMap": {},
     "title": ""
    }
   },
   "source": [
    "# Import libraries"
   ]
  },
  {
   "cell_type": "code",
   "execution_count": 0,
   "metadata": {
    "application/vnd.databricks.v1+cell": {
     "cellMetadata": {
      "byteLimit": 2048000,
      "rowLimit": 10000
     },
     "inputWidgets": {},
     "nuid": "3bdef443-f97e-4484-b824-ce88e392726d",
     "showTitle": false,
     "tableResultSettingsMap": {},
     "title": ""
    }
   },
   "outputs": [],
   "source": [
    "from pyspark.sql.functions import col, when, count, isnan, sum\n",
    "from pyspark.ml.feature import StringIndexer, VectorAssembler, StandardScaler\n",
    "from pyspark.ml import Pipeline\n",
    "from pyspark.ml.evaluation import MulticlassClassificationEvaluator\n",
    "\n",
    "import pandas as pd\n",
    "import matplotlib.pyplot as plt\n",
    "\n",
    "# ML models that will be used \n",
    "from pyspark.ml.classification import (\n",
    "    LogisticRegression,\n",
    "    RandomForestClassifier,\n",
    "    GBTClassifier,\n",
    "    DecisionTreeClassifier,\n",
    "    NaiveBayes\n",
    ")\n",
    "\n",
    "from pyspark.ml.evaluation import BinaryClassificationEvaluator  \n"
   ]
  },
  {
   "cell_type": "markdown",
   "metadata": {
    "application/vnd.databricks.v1+cell": {
     "cellMetadata": {
      "byteLimit": 2048000,
      "rowLimit": 10000
     },
     "inputWidgets": {},
     "nuid": "6caa4b54-7019-4f0f-b63e-988662e1e698",
     "showTitle": false,
     "tableResultSettingsMap": {},
     "title": ""
    }
   },
   "source": [
    "# Load dataset"
   ]
  },
  {
   "cell_type": "code",
   "execution_count": 0,
   "metadata": {
    "application/vnd.databricks.v1+cell": {
     "cellMetadata": {
      "byteLimit": 2048000,
      "rowLimit": 10000
     },
     "inputWidgets": {},
     "nuid": "342c35eb-741a-4713-abc4-b294a4ebebc0",
     "showTitle": false,
     "tableResultSettingsMap": {},
     "title": ""
    }
   },
   "outputs": [],
   "source": [
    "df = spark.read.table(\"thyroid_cancer_risk_only\")\n"
   ]
  },
  {
   "cell_type": "markdown",
   "metadata": {
    "application/vnd.databricks.v1+cell": {
     "cellMetadata": {
      "byteLimit": 2048000,
      "rowLimit": 10000
     },
     "inputWidgets": {},
     "nuid": "382ffe01-4d01-4121-a25c-2a7316c45c46",
     "showTitle": false,
     "tableResultSettingsMap": {},
     "title": ""
    }
   },
   "source": [
    "## Initial Exploration\n"
   ]
  },
  {
   "cell_type": "code",
   "execution_count": 0,
   "metadata": {
    "application/vnd.databricks.v1+cell": {
     "cellMetadata": {
      "byteLimit": 2048000,
      "rowLimit": 10000
     },
     "inputWidgets": {},
     "nuid": "5dba569a-e06f-4aa7-94ee-5ce9ca370cfd",
     "showTitle": false,
     "tableResultSettingsMap": {},
     "title": ""
    }
   },
   "outputs": [],
   "source": [
    "# Drop Patient_ID as its a unique identifier \n",
    "df = df.drop(\"Patient_ID\")"
   ]
  },
  {
   "cell_type": "code",
   "execution_count": 0,
   "metadata": {
    "application/vnd.databricks.v1+cell": {
     "cellMetadata": {
      "byteLimit": 2048000,
      "rowLimit": 10000
     },
     "inputWidgets": {},
     "nuid": "65efafd4-ebaf-4868-97ad-f1d2ff63f6fa",
     "showTitle": false,
     "tableResultSettingsMap": {},
     "title": ""
    }
   },
   "outputs": [
    {
     "output_type": "stream",
     "name": "stdout",
     "output_type": "stream",
     "text": [
      "Number of records: 212691\n\nSchema:\nroot\n |-- Age: long (nullable = true)\n |-- Gender: string (nullable = true)\n |-- Country: string (nullable = true)\n |-- Ethnicity: string (nullable = true)\n |-- Family_History: string (nullable = true)\n |-- Radiation_Exposure: string (nullable = true)\n |-- Iodine_Deficiency: string (nullable = true)\n |-- Smoking: string (nullable = true)\n |-- Obesity: string (nullable = true)\n |-- Diabetes: string (nullable = true)\n |-- Thyroid_Cancer_Risk: string (nullable = true)\n\n"
     ]
    },
    {
     "output_type": "execute_result",
     "data": {
      "text/html": [
       "<div>\n",
       "<style scoped>\n",
       "    .dataframe tbody tr th:only-of-type {\n",
       "        vertical-align: middle;\n",
       "    }\n",
       "\n",
       "    .dataframe tbody tr th {\n",
       "        vertical-align: top;\n",
       "    }\n",
       "\n",
       "    .dataframe thead th {\n",
       "        text-align: right;\n",
       "    }\n",
       "</style>\n",
       "<table border=\"1\" class=\"dataframe\">\n",
       "  <thead>\n",
       "    <tr style=\"text-align: right;\">\n",
       "      <th></th>\n",
       "      <th>0</th>\n",
       "      <th>1</th>\n",
       "      <th>2</th>\n",
       "      <th>3</th>\n",
       "      <th>4</th>\n",
       "      <th>5</th>\n",
       "      <th>6</th>\n",
       "      <th>7</th>\n",
       "      <th>8</th>\n",
       "      <th>9</th>\n",
       "    </tr>\n",
       "  </thead>\n",
       "  <tbody>\n",
       "    <tr>\n",
       "      <th>Age</th>\n",
       "      <td>66</td>\n",
       "      <td>29</td>\n",
       "      <td>86</td>\n",
       "      <td>75</td>\n",
       "      <td>35</td>\n",
       "      <td>89</td>\n",
       "      <td>89</td>\n",
       "      <td>38</td>\n",
       "      <td>17</td>\n",
       "      <td>36</td>\n",
       "    </tr>\n",
       "    <tr>\n",
       "      <th>Gender</th>\n",
       "      <td>Male</td>\n",
       "      <td>Male</td>\n",
       "      <td>Male</td>\n",
       "      <td>Female</td>\n",
       "      <td>Female</td>\n",
       "      <td>Male</td>\n",
       "      <td>Female</td>\n",
       "      <td>Female</td>\n",
       "      <td>Female</td>\n",
       "      <td>Male</td>\n",
       "    </tr>\n",
       "    <tr>\n",
       "      <th>Country</th>\n",
       "      <td>Russia</td>\n",
       "      <td>Germany</td>\n",
       "      <td>Nigeria</td>\n",
       "      <td>India</td>\n",
       "      <td>Germany</td>\n",
       "      <td>UK</td>\n",
       "      <td>South Korea</td>\n",
       "      <td>India</td>\n",
       "      <td>Russia</td>\n",
       "      <td>Germany</td>\n",
       "    </tr>\n",
       "    <tr>\n",
       "      <th>Ethnicity</th>\n",
       "      <td>Caucasian</td>\n",
       "      <td>Hispanic</td>\n",
       "      <td>Caucasian</td>\n",
       "      <td>Asian</td>\n",
       "      <td>African</td>\n",
       "      <td>African</td>\n",
       "      <td>Asian</td>\n",
       "      <td>African</td>\n",
       "      <td>African</td>\n",
       "      <td>Asian</td>\n",
       "    </tr>\n",
       "    <tr>\n",
       "      <th>Family_History</th>\n",
       "      <td>No</td>\n",
       "      <td>No</td>\n",
       "      <td>No</td>\n",
       "      <td>No</td>\n",
       "      <td>Yes</td>\n",
       "      <td>No</td>\n",
       "      <td>Yes</td>\n",
       "      <td>No</td>\n",
       "      <td>No</td>\n",
       "      <td>No</td>\n",
       "    </tr>\n",
       "    <tr>\n",
       "      <th>Radiation_Exposure</th>\n",
       "      <td>Yes</td>\n",
       "      <td>Yes</td>\n",
       "      <td>No</td>\n",
       "      <td>No</td>\n",
       "      <td>Yes</td>\n",
       "      <td>No</td>\n",
       "      <td>Yes</td>\n",
       "      <td>No</td>\n",
       "      <td>Yes</td>\n",
       "      <td>No</td>\n",
       "    </tr>\n",
       "    <tr>\n",
       "      <th>Iodine_Deficiency</th>\n",
       "      <td>No</td>\n",
       "      <td>No</td>\n",
       "      <td>No</td>\n",
       "      <td>No</td>\n",
       "      <td>No</td>\n",
       "      <td>No</td>\n",
       "      <td>No</td>\n",
       "      <td>No</td>\n",
       "      <td>No</td>\n",
       "      <td>No</td>\n",
       "    </tr>\n",
       "    <tr>\n",
       "      <th>Smoking</th>\n",
       "      <td>No</td>\n",
       "      <td>No</td>\n",
       "      <td>No</td>\n",
       "      <td>No</td>\n",
       "      <td>No</td>\n",
       "      <td>Yes</td>\n",
       "      <td>No</td>\n",
       "      <td>No</td>\n",
       "      <td>No</td>\n",
       "      <td>No</td>\n",
       "    </tr>\n",
       "    <tr>\n",
       "      <th>Obesity</th>\n",
       "      <td>No</td>\n",
       "      <td>No</td>\n",
       "      <td>No</td>\n",
       "      <td>No</td>\n",
       "      <td>No</td>\n",
       "      <td>Yes</td>\n",
       "      <td>Yes</td>\n",
       "      <td>No</td>\n",
       "      <td>No</td>\n",
       "      <td>Yes</td>\n",
       "    </tr>\n",
       "    <tr>\n",
       "      <th>Diabetes</th>\n",
       "      <td>No</td>\n",
       "      <td>No</td>\n",
       "      <td>No</td>\n",
       "      <td>No</td>\n",
       "      <td>No</td>\n",
       "      <td>No</td>\n",
       "      <td>No</td>\n",
       "      <td>No</td>\n",
       "      <td>Yes</td>\n",
       "      <td>No</td>\n",
       "    </tr>\n",
       "    <tr>\n",
       "      <th>Thyroid_Cancer_Risk</th>\n",
       "      <td>Low</td>\n",
       "      <td>Low</td>\n",
       "      <td>Low</td>\n",
       "      <td>Medium</td>\n",
       "      <td>High</td>\n",
       "      <td>Medium</td>\n",
       "      <td>High</td>\n",
       "      <td>Medium</td>\n",
       "      <td>High</td>\n",
       "      <td>Low</td>\n",
       "    </tr>\n",
       "  </tbody>\n",
       "</table>\n",
       "</div>"
      ],
      "text/plain": [
       "                             0         1          2  ...        7        8        9\n",
       "Age                         66        29         86  ...       38       17       36\n",
       "Gender                    Male      Male       Male  ...   Female   Female     Male\n",
       "Country                 Russia   Germany    Nigeria  ...    India   Russia  Germany\n",
       "Ethnicity            Caucasian  Hispanic  Caucasian  ...  African  African    Asian\n",
       "Family_History              No        No         No  ...       No       No       No\n",
       "Radiation_Exposure         Yes       Yes         No  ...       No      Yes       No\n",
       "Iodine_Deficiency           No        No         No  ...       No       No       No\n",
       "Smoking                     No        No         No  ...       No       No       No\n",
       "Obesity                     No        No         No  ...       No       No      Yes\n",
       "Diabetes                    No        No         No  ...       No      Yes       No\n",
       "Thyroid_Cancer_Risk        Low       Low        Low  ...   Medium     High      Low\n",
       "\n",
       "[11 rows x 10 columns]"
      ]
     },
     "execution_count": 4,
     "metadata": {},
     "output_type": "execute_result"
    }
   ],
   "source": [
    "print(\"Number of records:\", df.count())\n",
    "print(\"\\nSchema:\")\n",
    "df.printSchema()\n",
    "pd.DataFrame(df.take(10), columns=df.columns).transpose()"
   ]
  },
  {
   "cell_type": "markdown",
   "metadata": {
    "application/vnd.databricks.v1+cell": {
     "cellMetadata": {
      "byteLimit": 2048000,
      "rowLimit": 10000
     },
     "inputWidgets": {},
     "nuid": "2b995ab5-c29d-43ad-894e-9a490708af95",
     "showTitle": false,
     "tableResultSettingsMap": {},
     "title": ""
    }
   },
   "source": [
    "## Check Correlation between features"
   ]
  },
  {
   "cell_type": "code",
   "execution_count": 0,
   "metadata": {
    "application/vnd.databricks.v1+cell": {
     "cellMetadata": {
      "byteLimit": 2048000,
      "rowLimit": 10000
     },
     "inputWidgets": {},
     "nuid": "72badfb3-9a85-4775-8728-37acec5ea9d1",
     "showTitle": false,
     "tableResultSettingsMap": {},
     "title": ""
    }
   },
   "outputs": [
    {
     "output_type": "display_data",
     "data": {
      "image/png": "[encoded data removed]",
      "text/plain": [
       "<Figure size 800x800 with 1 Axes>"
      ]
     },
     "metadata": {},
     "output_type": "display_data"
    }
   ],
   "source": [
    "import pandas as pd\n",
    "import matplotlib.pyplot as plt\n",
    "\n",
    "# Step 1: Define your numeric features\n",
    "numeric_features = [\"Age\"] \n",
    "\n",
    "# Step 2: Convert numeric data to Pandas\n",
    "numeric_data = df.select(numeric_features).toPandas()\n",
    "\n",
    "# Step 3: Create the scatter matrix plot\n",
    "axs = pd.plotting.scatter_matrix(numeric_data, figsize=(8, 8), diagonal='kde')\n",
    "\n",
    "# Step 4: Optional adjustments to make axes/labels cleaner\n",
    "n = len(numeric_data.columns)\n",
    "for i in range(n):\n",
    "    v = axs[i, 0]\n",
    "    v.yaxis.label.set_rotation(0)\n",
    "    v.yaxis.label.set_ha('right')\n",
    "    v.set_yticks(())\n",
    "\n",
    "    h = axs[n - 1, i]\n",
    "    h.xaxis.label.set_rotation(90)\n",
    "    h.set_xticks(())\n",
    "\n",
    "# Step 5: Show the plot\n",
    "plt.tight_layout()\n",
    "plt.show()\n"
   ]
  },
  {
   "cell_type": "markdown",
   "metadata": {
    "application/vnd.databricks.v1+cell": {
     "cellMetadata": {
      "byteLimit": 2048000,
      "rowLimit": 10000
     },
     "inputWidgets": {},
     "nuid": "cf9de020-a577-4c09-ab86-55f11f4d1506",
     "showTitle": false,
     "tableResultSettingsMap": {},
     "title": ""
    }
   },
   "source": [
    "# Feature Engineering and Preprocessing"
   ]
  },
  {
   "cell_type": "code",
   "execution_count": 0,
   "metadata": {
    "application/vnd.databricks.v1+cell": {
     "cellMetadata": {
      "byteLimit": 2048000,
      "rowLimit": 10000
     },
     "inputWidgets": {},
     "nuid": "6aef9268-ac46-47e1-8240-cd693de0f884",
     "showTitle": false,
     "tableResultSettingsMap": {},
     "title": ""
    }
   },
   "outputs": [],
   "source": [
    "# Defining Features\n",
    "categorical_cols = [\"Gender\", \"Country\", \"Ethnicity\", \"Family_History\", \n",
    "                    \"Radiation_Exposure\", \"Iodine_Deficiency\", \n",
    "                    \"Smoking\", \"Obesity\", \"Diabetes\"]\n",
    "numerical_cols = [\"Age\"]\n",
    "\n",
    "# Index all categorical features\n",
    "indexers = [\n",
    "    StringIndexer(inputCol=col, outputCol=col + \"_idx\", handleInvalid=\"keep\") \n",
    "    for col in categorical_cols\n",
    "]\n",
    "\n",
    "# Assemble features (indexed categoricals + numeric)\n",
    "assembler = VectorAssembler(\n",
    "    inputCols=[col + \"_idx\" for col in categorical_cols] + numerical_cols,\n",
    "    outputCol=\"features\"\n",
    ")\n",
    "\n",
    "# Scale numeric feature(s)\n",
    "scaler = StandardScaler(inputCol=\"features\", outputCol=\"scaled_features\")\n",
    "\n",
    "# Index the label (multiclass target)\n",
    "label_indexer = StringIndexer(\n",
    "    inputCol=\"Thyroid_Cancer_Risk\", \n",
    "    outputCol=\"label\", \n",
    "    handleInvalid=\"keep\"\n",
    ")\n",
    "\n",
    "# Combine all preprocessing stages into one list\n",
    "base_stages = indexers + [assembler, scaler, label_indexer]\n"
   ]
  },
  {
   "cell_type": "markdown",
   "metadata": {
    "application/vnd.databricks.v1+cell": {
     "cellMetadata": {
      "byteLimit": 2048000,
      "rowLimit": 10000
     },
     "inputWidgets": {},
     "nuid": "3c6e868c-fa11-41ad-a41d-2c170da145ee",
     "showTitle": false,
     "tableResultSettingsMap": {},
     "title": ""
    }
   },
   "source": [
    "### Modular Preprocessing \n",
    "Modular because we're using multiple models"
   ]
  },
  {
   "cell_type": "code",
   "execution_count": 0,
   "metadata": {
    "application/vnd.databricks.v1+cell": {
     "cellMetadata": {
      "byteLimit": 2048000,
      "rowLimit": 10000
     },
     "inputWidgets": {},
     "nuid": "27e819f5-bb03-4dd3-bb34-ca73f4e30c0a",
     "showTitle": false,
     "tableResultSettingsMap": {},
     "title": ""
    }
   },
   "outputs": [],
   "source": [
    "# Preprocessing stages (no model here yet)\n",
    "preprocessing_stages = indexers + [assembler, scaler, label_indexer]\n",
    "preprocessing_pipeline = Pipeline(stages=preprocessing_stages)\n",
    "\n",
    "# Fit and transform data once\n",
    "preprocessed_model = preprocessing_pipeline.fit(df)\n",
    "processed_df = preprocessed_model.transform(df)\n"
   ]
  },
  {
   "cell_type": "markdown",
   "metadata": {
    "application/vnd.databricks.v1+cell": {
     "cellMetadata": {
      "byteLimit": 2048000,
      "rowLimit": 10000
     },
     "inputWidgets": {},
     "nuid": "e6d7b7d3-2254-4862-b972-5d4fcb92230b",
     "showTitle": false,
     "tableResultSettingsMap": {},
     "title": ""
    }
   },
   "source": [
    "# Logistic Regression / Multiclassification"
   ]
  },
  {
   "cell_type": "code",
   "execution_count": 0,
   "metadata": {
    "application/vnd.databricks.v1+cell": {
     "cellMetadata": {
      "byteLimit": 2048000,
      "rowLimit": 10000
     },
     "inputWidgets": {},
     "nuid": "33561786-d7b6-437b-949c-75c6e300637b",
     "showTitle": false,
     "tableResultSettingsMap": {},
     "title": ""
    }
   },
   "outputs": [
    {
     "output_type": "stream",
     "name": "stdout",
     "output_type": "stream",
     "text": [
      "✅ Logistic Regression model trained!\n"
     ]
    }
   ],
   "source": [
    "# 1. Redefine or reuse preprocessing pipeline\n",
    "base_stages = indexers + [assembler, scaler, label_indexer]\n",
    "\n",
    "# 2. Create the logistic regression model\n",
    "lr = LogisticRegression(\n",
    "    featuresCol=\"scaled_features\",\n",
    "    labelCol=\"label\",\n",
    "    maxIter=10,\n",
    "    regParam=0.1,\n",
    "    elasticNetParam=0.0\n",
    ")\n",
    "\n",
    "# 3. Build the full pipeline\n",
    "lr_pipeline = Pipeline(stages=base_stages + [lr])\n",
    "\n",
    "# 4. Split raw data (df) before pipeline\n",
    "lr_train_df, lr_test_df = df.randomSplit([0.7, 0.3], seed=42)\n",
    "\n",
    "# 5. Fit the model\n",
    "lr_model = lr_pipeline.fit(lr_train_df)\n",
    "\n",
    "# 6. Make predictions\n",
    "lr_predictions = lr_model.transform(lr_test_df)\n",
    "\n",
    "print(\"✅ Logistic Regression model trained!\")\n"
   ]
  },
  {
   "cell_type": "markdown",
   "metadata": {
    "application/vnd.databricks.v1+cell": {
     "cellMetadata": {
      "byteLimit": 2048000,
      "rowLimit": 10000
     },
     "inputWidgets": {},
     "nuid": "ea462ac4-7fd4-4c6c-8d4c-ce3f80d04173",
     "showTitle": false,
     "tableResultSettingsMap": {},
     "title": ""
    }
   },
   "source": [
    "## Evaluating the model"
   ]
  },
  {
   "cell_type": "code",
   "execution_count": 0,
   "metadata": {
    "application/vnd.databricks.v1+cell": {
     "cellMetadata": {
      "byteLimit": 2048000,
      "rowLimit": 10000
     },
     "inputWidgets": {},
     "nuid": "e87b2c84-e8d4-4895-b83f-de91ef558beb",
     "showTitle": false,
     "tableResultSettingsMap": {},
     "title": ""
    }
   },
   "outputs": [
    {
     "output_type": "stream",
     "name": "stdout",
     "output_type": "stream",
     "text": [
      "✅ Accuracy: 0.531\n\n🔍 Per-Class Metrics:\nClass 0:\n\tPrecision: 0.529\n\tRecall:    0.966\n\tF1 Score:  0.684\nClass 1:\n\tPrecision: 0.000\n\tRecall:    0.000\n\tF1 Score:  0.000\nClass 2:\n\tPrecision: 0.548\n\tRecall:    0.235\n\tF1 Score:  0.329\n\n📊 Weighted Overall Metrics:\nWeighted Precision: 0.354\nWeighted Recall:    0.531\nWeighted F1 Score:  0.400\n"
     ]
    }
   ],
   "source": [
    "# Use the model's predictions\n",
    "predictions = lr_predictions  # Rename if needed for other models\n",
    "\n",
    "# Initialize evaluator once\n",
    "evaluator = MulticlassClassificationEvaluator(labelCol=\"label\", predictionCol=\"prediction\")\n",
    "\n",
    "# Overall Accuracy\n",
    "accuracy = evaluator.evaluate(predictions, {evaluator.metricName: \"accuracy\"})\n",
    "print(f\"✅ Accuracy: {accuracy:.3f}\")\n",
    "\n",
    "# Class labels (0 = Low, 1 = Medium, 2 = High)\n",
    "labels = [0, 1, 2]\n",
    "\n",
    "print(\"\\n🔍 Per-Class Metrics:\")\n",
    "for label in labels:\n",
    "    precision = evaluator.evaluate(predictions, {\n",
    "        evaluator.metricName: \"precisionByLabel\",\n",
    "        evaluator.metricLabel: label\n",
    "    })\n",
    "    recall = evaluator.evaluate(predictions, {\n",
    "        evaluator.metricName: \"recallByLabel\",\n",
    "        evaluator.metricLabel: label\n",
    "    })\n",
    "    f1 = evaluator.evaluate(predictions, {\n",
    "        evaluator.metricName: \"fMeasureByLabel\",\n",
    "        evaluator.metricLabel: label\n",
    "    })\n",
    "    \n",
    "    print(f\"Class {label}:\")\n",
    "    print(f\"\\tPrecision: {precision:.3f}\")\n",
    "    print(f\"\\tRecall:    {recall:.3f}\")\n",
    "    print(f\"\\tF1 Score:  {f1:.3f}\")\n",
    "\n",
    "print(\"\\n📊 Weighted Overall Metrics:\")\n",
    "weighted_precision = evaluator.evaluate(predictions, {evaluator.metricName: \"weightedPrecision\"})\n",
    "weighted_recall = evaluator.evaluate(predictions, {evaluator.metricName: \"weightedRecall\"})\n",
    "weighted_f1 = evaluator.evaluate(predictions, {evaluator.metricName: \"weightedFMeasure\"})\n",
    "\n",
    "print(f\"Weighted Precision: {weighted_precision:.3f}\")\n",
    "print(f\"Weighted Recall:    {weighted_recall:.3f}\")\n",
    "print(f\"Weighted F1 Score:  {weighted_f1:.3f}\")\n"
   ]
  },
  {
   "cell_type": "markdown",
   "metadata": {
    "application/vnd.databricks.v1+cell": {
     "cellMetadata": {
      "byteLimit": 2048000,
      "rowLimit": 10000
     },
     "inputWidgets": {},
     "nuid": "a755a467-9484-4f51-9ff0-985b3b6f24fd",
     "showTitle": false,
     "tableResultSettingsMap": {},
     "title": ""
    }
   },
   "source": [
    "### Confusion Matrix"
   ]
  },
  {
   "cell_type": "markdown",
   "metadata": {
    "application/vnd.databricks.v1+cell": {
     "cellMetadata": {},
     "inputWidgets": {},
     "nuid": "946c32e8-dd77-4825-a071-85035900d5d9",
     "showTitle": false,
     "tableResultSettingsMap": {},
     "title": ""
    }
   },
   "source": [
    "Class 0:\n",
    "- Correctly predicted: 31,590\n",
    "- Incorrectly predicted: 1,116 as class 2.0  \n",
    "\n",
    "Class 1: \n",
    "- Incorrectly predicted: 20,761 as Class 0 & 740 as Class 1\n",
    "- The model fails to predict Class 1  \n",
    "\n",
    "Class 2: \n",
    "- Correctly predicted: 2,249\n",
    "- Incorrectly predicted: 7,326 as Class 0 "
   ]
  },
  {
   "cell_type": "code",
   "execution_count": 0,
   "metadata": {
    "application/vnd.databricks.v1+cell": {
     "cellMetadata": {
      "byteLimit": 2048000,
      "rowLimit": 10000
     },
     "inputWidgets": {},
     "nuid": "d9a7b2c8-8cbc-4b07-b2b8-5dd2af2d33fc",
     "showTitle": false,
     "tableResultSettingsMap": {},
     "title": ""
    }
   },
   "outputs": [
    {
     "output_type": "stream",
     "name": "stdout",
     "output_type": "stream",
     "text": [
      "\n🧾 Confusion Matrix:\n+-----+----------+-----+\n|label|prediction|count|\n+-----+----------+-----+\n|  0.0|       0.0|31590|\n|  0.0|       2.0| 1116|\n|  1.0|       0.0|20761|\n|  1.0|       2.0|  740|\n|  2.0|       0.0| 7326|\n|  2.0|       2.0| 2249|\n+-----+----------+-----+\n\n"
     ]
    }
   ],
   "source": [
    "print(\"\\n🧾 Confusion Matrix:\")\n",
    "predictions.groupBy(\"label\", \"prediction\").count().orderBy(\"label\", \"prediction\").show()\n"
   ]
  },
  {
   "cell_type": "markdown",
   "metadata": {
    "application/vnd.databricks.v1+cell": {
     "cellMetadata": {
      "byteLimit": 2048000,
      "rowLimit": 10000
     },
     "inputWidgets": {},
     "nuid": "1b2a3c14-fd7d-4b54-9b49-9fca87d14c63",
     "showTitle": false,
     "tableResultSettingsMap": {},
     "title": ""
    }
   },
   "source": [
    "### Check: Proper grouping"
   ]
  },
  {
   "cell_type": "code",
   "execution_count": 0,
   "metadata": {
    "application/vnd.databricks.v1+cell": {
     "cellMetadata": {
      "byteLimit": 2048000,
      "rowLimit": 10000
     },
     "inputWidgets": {},
     "nuid": "4922c996-7171-448c-91e1-76d4ed6b0ebe",
     "showTitle": false,
     "tableResultSettingsMap": {},
     "title": ""
    }
   },
   "outputs": [
    {
     "output_type": "stream",
     "name": "stdout",
     "output_type": "stream",
     "text": [
      "+-------------------+------+\n|Thyroid_Cancer_Risk| count|\n+-------------------+------+\n|               High| 31903|\n|                Low|108388|\n|             Medium| 72400|\n+-------------------+------+\n\n"
     ]
    }
   ],
   "source": [
    "df.groupBy(\"Thyroid_Cancer_Risk\").count().show()"
   ]
  },
  {
   "cell_type": "markdown",
   "metadata": {
    "application/vnd.databricks.v1+cell": {
     "cellMetadata": {
      "byteLimit": 2048000,
      "rowLimit": 10000
     },
     "inputWidgets": {},
     "nuid": "8313e51f-bf06-4e03-98ad-b765f05884f6",
     "showTitle": false,
     "tableResultSettingsMap": {},
     "title": ""
    }
   },
   "source": [
    "### Check: Proper Coding"
   ]
  },
  {
   "cell_type": "code",
   "execution_count": 0,
   "metadata": {
    "application/vnd.databricks.v1+cell": {
     "cellMetadata": {
      "byteLimit": 2048000,
      "rowLimit": 10000
     },
     "inputWidgets": {},
     "nuid": "2977b4a8-0203-486f-b123-23370e14c66b",
     "showTitle": false,
     "tableResultSettingsMap": {},
     "title": ""
    }
   },
   "outputs": [
    {
     "output_type": "stream",
     "name": "stdout",
     "output_type": "stream",
     "text": [
      "Label mapping (most frequent = 0):\n0: Low\n1: Medium\n2: High\n"
     ]
    }
   ],
   "source": [
    "# Check how StringIndexer mapped your risk labels\n",
    "indexer = StringIndexer(inputCol=\"Thyroid_Cancer_Risk\", outputCol=\"Thyroid_Cancer_Risk_Idx\")\n",
    "model = indexer.fit(df)\n",
    "\n",
    "print(\"Label mapping (most frequent = 0):\")\n",
    "for label, idx in zip(model.labels, range(len(model.labels))):\n",
    "    print(f\"{idx}: {label}\")\n"
   ]
  },
  {
   "cell_type": "markdown",
   "metadata": {
    "application/vnd.databricks.v1+cell": {
     "cellMetadata": {
      "byteLimit": 2048000,
      "rowLimit": 10000
     },
     "inputWidgets": {},
     "nuid": "eb474eda-5276-4e15-8e71-df33121ebef5",
     "showTitle": false,
     "tableResultSettingsMap": {},
     "title": ""
    }
   },
   "source": [
    "# Random forest classifier"
   ]
  },
  {
   "cell_type": "code",
   "execution_count": 0,
   "metadata": {
    "application/vnd.databricks.v1+cell": {
     "cellMetadata": {
      "byteLimit": 2048000,
      "rowLimit": 10000
     },
     "inputWidgets": {},
     "nuid": "0b8332c0-3f42-46c7-aa71-1a0b4e75e712",
     "showTitle": false,
     "tableResultSettingsMap": {},
     "title": ""
    }
   },
   "outputs": [
    {
     "output_type": "stream",
     "name": "stdout",
     "output_type": "stream",
     "text": [
      "✅ Random Forest model trained!\n"
     ]
    }
   ],
   "source": [
    "# Step 1: Split raw data BEFORE the pipeline\n",
    "rf_train_df, rf_test_df = df.randomSplit([0.7, 0.3], seed=42)\n",
    "\n",
    "# Step 2: Define Random Forest model\n",
    "rf = RandomForestClassifier(\n",
    "    featuresCol=\"scaled_features\",\n",
    "    labelCol=\"label\",\n",
    "    numTrees=100,\n",
    "    maxDepth=5,\n",
    "    seed=42\n",
    ")\n",
    "\n",
    "# Step 3: Create pipeline with preprocessing + model\n",
    "rf_pipeline = Pipeline(stages=base_stages + [rf])\n",
    "\n",
    "# Step 4: Fit pipeline and make predictions\n",
    "rf_model = rf_pipeline.fit(rf_train_df)\n",
    "rf_predictions = rf_model.transform(rf_test_df)\n",
    "\n",
    "print(\"✅ Random Forest model trained!\")\n"
   ]
  },
  {
   "cell_type": "markdown",
   "metadata": {
    "application/vnd.databricks.v1+cell": {
     "cellMetadata": {
      "byteLimit": 2048000,
      "rowLimit": 10000
     },
     "inputWidgets": {},
     "nuid": "8fa55076-1bc3-4c8c-ab15-4b9f2eb9a742",
     "showTitle": false,
     "tableResultSettingsMap": {},
     "title": ""
    }
   },
   "source": [
    "## Evaluating the model"
   ]
  },
  {
   "cell_type": "code",
   "execution_count": 0,
   "metadata": {
    "application/vnd.databricks.v1+cell": {
     "cellMetadata": {
      "byteLimit": 2048000,
      "rowLimit": 10000
     },
     "inputWidgets": {},
     "nuid": "64dd41f3-babb-4df2-82f8-4580a561166e",
     "showTitle": false,
     "tableResultSettingsMap": {},
     "title": ""
    }
   },
   "outputs": [
    {
     "output_type": "stream",
     "name": "stdout",
     "output_type": "stream",
     "text": [
      "✅ Accuracy: 0.656\n\n🔍 Per-Class Metrics:\nClass 0:\n\tPrecision: 0.598\n\tRecall:    1.000\n\tF1 Score:  0.749\nClass 1:\n\tPrecision: 0.000\n\tRecall:    0.000\n\tF1 Score:  0.000\nClass 2:\n\tPrecision: 1.000\n\tRecall:    0.952\n\tF1 Score:  0.975\n\n📊 Weighted Overall Metrics:\nWeighted Precision: 0.457\nWeighted Recall:    0.656\nWeighted F1 Score:  0.530\n"
     ]
    }
   ],
   "source": [
    "# Use RF predictions\n",
    "predictions = rf_predictions\n",
    "\n",
    "# Initialize evaluator\n",
    "evaluator = MulticlassClassificationEvaluator(labelCol=\"label\", predictionCol=\"prediction\")\n",
    "\n",
    "# Overall Accuracy\n",
    "accuracy = evaluator.evaluate(predictions, {evaluator.metricName: \"accuracy\"})\n",
    "print(f\"✅ Accuracy: {accuracy:.3f}\")\n",
    "\n",
    "# Class labels (0 = Low, 1 = Medium, 2 = High)\n",
    "labels = [0, 1, 2]\n",
    "\n",
    "print(\"\\n🔍 Per-Class Metrics:\")\n",
    "for label in labels:\n",
    "    precision = evaluator.evaluate(predictions, {\n",
    "        evaluator.metricName: \"precisionByLabel\",\n",
    "        evaluator.metricLabel: label\n",
    "    })\n",
    "    recall = evaluator.evaluate(predictions, {\n",
    "        evaluator.metricName: \"recallByLabel\",\n",
    "        evaluator.metricLabel: label\n",
    "    })\n",
    "    f1 = evaluator.evaluate(predictions, {\n",
    "        evaluator.metricName: \"fMeasureByLabel\",\n",
    "        evaluator.metricLabel: label\n",
    "    })\n",
    "    \n",
    "    print(f\"Class {label}:\")\n",
    "    print(f\"\\tPrecision: {precision:.3f}\")\n",
    "    print(f\"\\tRecall:    {recall:.3f}\")\n",
    "    print(f\"\\tF1 Score:  {f1:.3f}\")\n",
    "\n",
    "# Weighted overall metrics\n",
    "print(\"\\n📊 Weighted Overall Metrics:\")\n",
    "weighted_precision = evaluator.evaluate(predictions, {evaluator.metricName: \"weightedPrecision\"})\n",
    "weighted_recall = evaluator.evaluate(predictions, {evaluator.metricName: \"weightedRecall\"})\n",
    "weighted_f1 = evaluator.evaluate(predictions, {evaluator.metricName: \"weightedFMeasure\"})\n",
    "\n",
    "print(f\"Weighted Precision: {weighted_precision:.3f}\")\n",
    "print(f\"Weighted Recall:    {weighted_recall:.3f}\")\n",
    "print(f\"Weighted F1 Score:  {weighted_f1:.3f}\")\n"
   ]
  },
  {
   "cell_type": "markdown",
   "metadata": {
    "application/vnd.databricks.v1+cell": {
     "cellMetadata": {
      "byteLimit": 2048000,
      "rowLimit": 10000
     },
     "inputWidgets": {},
     "nuid": "8a7dbf9c-6947-40ef-a244-6cd718d04dfd",
     "showTitle": false,
     "tableResultSettingsMap": {},
     "title": ""
    }
   },
   "source": [
    "### Confusion Matrix\n"
   ]
  },
  {
   "cell_type": "code",
   "execution_count": 0,
   "metadata": {
    "application/vnd.databricks.v1+cell": {
     "cellMetadata": {
      "byteLimit": 2048000,
      "rowLimit": 10000
     },
     "inputWidgets": {},
     "nuid": "9007bf0d-0504-44ca-832f-d7220924bd3e",
     "showTitle": false,
     "tableResultSettingsMap": {},
     "title": ""
    }
   },
   "outputs": [
    {
     "output_type": "stream",
     "name": "stdout",
     "output_type": "stream",
     "text": [
      "\n🧾 Confusion Matrix:\n+-----+----------+-----+\n|label|prediction|count|\n+-----+----------+-----+\n|  0.0|       0.0|32706|\n|  1.0|       0.0|21501|\n|  2.0|       0.0|  464|\n|  2.0|       2.0| 9111|\n+-----+----------+-----+\n\n"
     ]
    }
   ],
   "source": [
    "print(\"\\n🧾 Confusion Matrix:\")\n",
    "predictions.groupBy(\"label\", \"prediction\").count().orderBy(\"label\", \"prediction\").show()\n"
   ]
  },
  {
   "cell_type": "markdown",
   "metadata": {
    "application/vnd.databricks.v1+cell": {
     "cellMetadata": {
      "byteLimit": 2048000,
      "rowLimit": 10000
     },
     "inputWidgets": {},
     "nuid": "48894d1c-eb5c-490b-9b64-27fc8217e053",
     "showTitle": false,
     "tableResultSettingsMap": {},
     "title": ""
    }
   },
   "source": [
    "# Multilayer Perceptron Classifier (Neural Network)"
   ]
  },
  {
   "cell_type": "code",
   "execution_count": 0,
   "metadata": {
    "application/vnd.databricks.v1+cell": {
     "cellMetadata": {
      "byteLimit": 2048000,
      "rowLimit": 10000
     },
     "inputWidgets": {},
     "nuid": "ae8805aa-ef11-49e5-b735-97d65ad4ba61",
     "showTitle": false,
     "tableResultSettingsMap": {},
     "title": ""
    }
   },
   "outputs": [
    {
     "output_type": "stream",
     "name": "stdout",
     "output_type": "stream",
     "text": [
      "✅ Multilayer Perceptron model trained!\n"
     ]
    }
   ],
   "source": [
    "from pyspark.ml.classification import MultilayerPerceptronClassifier\n",
    "from pyspark.ml import Pipeline\n",
    "\n",
    "# Determine input size\n",
    "num_input_features = len(assembler.getInputCols())\n",
    "\n",
    "# Define MLP architecture\n",
    "layers = [num_input_features, 5, 4, 3]\n",
    "\n",
    "# Define model\n",
    "mlp = MultilayerPerceptronClassifier(\n",
    "    featuresCol=\"scaled_features\",\n",
    "    labelCol=\"label\",\n",
    "    maxIter=100,\n",
    "    layers=layers,\n",
    "    blockSize=128,\n",
    "    seed=123\n",
    ")\n",
    "\n",
    "# Create pipeline (assuming no encoder)\n",
    "mlp_pipeline = Pipeline(stages=indexers + [assembler, scaler, label_indexer, mlp])\n",
    "\n",
    "# Train-test split on raw data\n",
    "train_df, test_df = df.randomSplit([0.7, 0.3], seed=42)\n",
    "\n",
    "# ✅ Rename 'model' to 'mlp_model' for consistency\n",
    "mlp_model = mlp_pipeline.fit(train_df)\n",
    "mlp_predictions = mlp_model.transform(test_df)\n",
    "\n",
    "print(\"✅ Multilayer Perceptron model trained!\")\n"
   ]
  },
  {
   "cell_type": "markdown",
   "metadata": {
    "application/vnd.databricks.v1+cell": {
     "cellMetadata": {
      "byteLimit": 2048000,
      "rowLimit": 10000
     },
     "inputWidgets": {},
     "nuid": "aaf771f5-d4f7-43b0-af23-7e1748b750ea",
     "showTitle": false,
     "tableResultSettingsMap": {},
     "title": ""
    }
   },
   "source": [
    "## Evaluating the model"
   ]
  },
  {
   "cell_type": "code",
   "execution_count": 0,
   "metadata": {
    "application/vnd.databricks.v1+cell": {
     "cellMetadata": {
      "byteLimit": 2048000,
      "rowLimit": 10000
     },
     "inputWidgets": {},
     "nuid": "362cd79e-0f70-434d-b9ff-7c3e380635c2",
     "showTitle": false,
     "tableResultSettingsMap": {},
     "title": ""
    }
   },
   "outputs": [
    {
     "output_type": "stream",
     "name": "stdout",
     "output_type": "stream",
     "text": [
      "✅ Accuracy: 0.659\n\n🔍 Per-Class Metrics:\nClass 0:\n\tPrecision: 0.603\n\tRecall:    0.992\n\tF1 Score:  0.750\nClass 1:\n\tPrecision: 0.000\n\tRecall:    0.000\n\tF1 Score:  0.000\nClass 2:\n\tPrecision: 0.958\n\tRecall:    1.000\n\tF1 Score:  0.978\n\n📊 Weighted Overall Metrics:\nWeighted Precision: 0.453\nWeighted Recall:    0.659\nWeighted F1 Score:  0.531\n"
     ]
    }
   ],
   "source": [
    "from pyspark.ml.evaluation import MulticlassClassificationEvaluator\n",
    "\n",
    "# Use MLP predictions\n",
    "predictions = mlp_predictions\n",
    "\n",
    "# Initialize evaluator\n",
    "evaluator = MulticlassClassificationEvaluator(labelCol=\"label\", predictionCol=\"prediction\")\n",
    "\n",
    "# Overall Accuracy\n",
    "accuracy = evaluator.evaluate(predictions, {evaluator.metricName: \"accuracy\"})\n",
    "print(f\"✅ Accuracy: {accuracy:.3f}\")\n",
    "\n",
    "# Class labels (0 = Low, 1 = Medium, 2 = High)\n",
    "labels = [0, 1, 2]\n",
    "\n",
    "print(\"\\n🔍 Per-Class Metrics:\")\n",
    "for label in labels:\n",
    "    precision = evaluator.evaluate(predictions, {\n",
    "        evaluator.metricName: \"precisionByLabel\",\n",
    "        evaluator.metricLabel: label\n",
    "    })\n",
    "    recall = evaluator.evaluate(predictions, {\n",
    "        evaluator.metricName: \"recallByLabel\",\n",
    "        evaluator.metricLabel: label\n",
    "    })\n",
    "    f1 = evaluator.evaluate(predictions, {\n",
    "        evaluator.metricName: \"fMeasureByLabel\",\n",
    "        evaluator.metricLabel: label\n",
    "    })\n",
    "    \n",
    "    print(f\"Class {label}:\")\n",
    "    print(f\"\\tPrecision: {precision:.3f}\")\n",
    "    print(f\"\\tRecall:    {recall:.3f}\")\n",
    "    print(f\"\\tF1 Score:  {f1:.3f}\")\n",
    "\n",
    "# Weighted overall metrics\n",
    "print(\"\\n📊 Weighted Overall Metrics:\")\n",
    "weighted_precision = evaluator.evaluate(predictions, {evaluator.metricName: \"weightedPrecision\"})\n",
    "weighted_recall = evaluator.evaluate(predictions, {evaluator.metricName: \"weightedRecall\"})\n",
    "weighted_f1 = evaluator.evaluate(predictions, {evaluator.metricName: \"weightedFMeasure\"})\n",
    "\n",
    "print(f\"Weighted Precision: {weighted_precision:.3f}\")\n",
    "print(f\"Weighted Recall:    {weighted_recall:.3f}\")\n",
    "print(f\"Weighted F1 Score:  {weighted_f1:.3f}\")\n"
   ]
  },
  {
   "cell_type": "markdown",
   "metadata": {
    "application/vnd.databricks.v1+cell": {
     "cellMetadata": {
      "byteLimit": 2048000,
      "rowLimit": 10000
     },
     "inputWidgets": {},
     "nuid": "67ed949c-9c60-4f97-8f24-ea38de4ab6dc",
     "showTitle": false,
     "tableResultSettingsMap": {},
     "title": ""
    }
   },
   "source": [
    "# Comparing Code LR, RF, and MLP"
   ]
  },
  {
   "cell_type": "code",
   "execution_count": 0,
   "metadata": {
    "application/vnd.databricks.v1+cell": {
     "cellMetadata": {
      "byteLimit": 2048000,
      "rowLimit": 10000
     },
     "inputWidgets": {},
     "nuid": "1778f10b-719f-466f-8c66-670d0643b1fa",
     "showTitle": false,
     "tableResultSettingsMap": {},
     "title": ""
    }
   },
   "outputs": [
    {
     "output_type": "execute_result",
     "data": {
      "text/html": [
       "<div>\n",
       "<style scoped>\n",
       "    .dataframe tbody tr th:only-of-type {\n",
       "        vertical-align: middle;\n",
       "    }\n",
       "\n",
       "    .dataframe tbody tr th {\n",
       "        vertical-align: top;\n",
       "    }\n",
       "\n",
       "    .dataframe thead th {\n",
       "        text-align: right;\n",
       "    }\n",
       "</style>\n",
       "<table border=\"1\" class=\"dataframe\">\n",
       "  <thead>\n",
       "    <tr style=\"text-align: right;\">\n",
       "      <th>Model</th>\n",
       "      <th>Logistic Regression</th>\n",
       "      <th>Random Forest</th>\n",
       "      <th>Multilayer Perceptron</th>\n",
       "    </tr>\n",
       "  </thead>\n",
       "  <tbody>\n",
       "    <tr>\n",
       "      <th>Accuracy</th>\n",
       "      <td>0.531</td>\n",
       "      <td>0.656</td>\n",
       "      <td>0.659</td>\n",
       "    </tr>\n",
       "    <tr>\n",
       "      <th>Weighted Precision</th>\n",
       "      <td>0.354</td>\n",
       "      <td>0.457</td>\n",
       "      <td>0.453</td>\n",
       "    </tr>\n",
       "    <tr>\n",
       "      <th>Weighted Recall</th>\n",
       "      <td>0.531</td>\n",
       "      <td>0.656</td>\n",
       "      <td>0.659</td>\n",
       "    </tr>\n",
       "    <tr>\n",
       "      <th>Weighted F1 Score</th>\n",
       "      <td>0.400</td>\n",
       "      <td>0.530</td>\n",
       "      <td>0.531</td>\n",
       "    </tr>\n",
       "    <tr>\n",
       "      <th>Class 0 Precision</th>\n",
       "      <td>0.529</td>\n",
       "      <td>0.598</td>\n",
       "      <td>0.603</td>\n",
       "    </tr>\n",
       "    <tr>\n",
       "      <th>Class 0 Recall</th>\n",
       "      <td>0.966</td>\n",
       "      <td>1.000</td>\n",
       "      <td>0.992</td>\n",
       "    </tr>\n",
       "    <tr>\n",
       "      <th>Class 0 F1 Score</th>\n",
       "      <td>0.684</td>\n",
       "      <td>0.749</td>\n",
       "      <td>0.750</td>\n",
       "    </tr>\n",
       "    <tr>\n",
       "      <th>Class 1 Precision</th>\n",
       "      <td>0.000</td>\n",
       "      <td>0.000</td>\n",
       "      <td>0.000</td>\n",
       "    </tr>\n",
       "    <tr>\n",
       "      <th>Class 1 Recall</th>\n",
       "      <td>0.000</td>\n",
       "      <td>0.000</td>\n",
       "      <td>0.000</td>\n",
       "    </tr>\n",
       "    <tr>\n",
       "      <th>Class 1 F1 Score</th>\n",
       "      <td>0.000</td>\n",
       "      <td>0.000</td>\n",
       "      <td>0.000</td>\n",
       "    </tr>\n",
       "    <tr>\n",
       "      <th>Class 2 Precision</th>\n",
       "      <td>0.548</td>\n",
       "      <td>1.000</td>\n",
       "      <td>0.958</td>\n",
       "    </tr>\n",
       "    <tr>\n",
       "      <th>Class 2 Recall</th>\n",
       "      <td>0.235</td>\n",
       "      <td>0.952</td>\n",
       "      <td>1.000</td>\n",
       "    </tr>\n",
       "    <tr>\n",
       "      <th>Class 2 F1 Score</th>\n",
       "      <td>0.329</td>\n",
       "      <td>0.975</td>\n",
       "      <td>0.978</td>\n",
       "    </tr>\n",
       "  </tbody>\n",
       "</table>\n",
       "</div>"
      ],
      "text/plain": [
       "Model               Logistic Regression  Random Forest  Multilayer Perceptron\n",
       "Accuracy                          0.531          0.656                  0.659\n",
       "Weighted Precision                0.354          0.457                  0.453\n",
       "Weighted Recall                   0.531          0.656                  0.659\n",
       "Weighted F1 Score                 0.400          0.530                  0.531\n",
       "Class 0 Precision                 0.529          0.598                  0.603\n",
       "Class 0 Recall                    0.966          1.000                  0.992\n",
       "Class 0 F1 Score                  0.684          0.749                  0.750\n",
       "Class 1 Precision                 0.000          0.000                  0.000\n",
       "Class 1 Recall                    0.000          0.000                  0.000\n",
       "Class 1 F1 Score                  0.000          0.000                  0.000\n",
       "Class 2 Precision                 0.548          1.000                  0.958\n",
       "Class 2 Recall                    0.235          0.952                  1.000\n",
       "Class 2 F1 Score                  0.329          0.975                  0.978"
      ]
     },
     "execution_count": 18,
     "metadata": {},
     "output_type": "execute_result"
    }
   ],
   "source": [
    "from pyspark.ml.evaluation import MulticlassClassificationEvaluator\n",
    "import pandas as pd\n",
    "\n",
    "# Function to evaluate any set of predictions\n",
    "def evaluate_model(predictions, model_name):\n",
    "    evaluator = MulticlassClassificationEvaluator(labelCol=\"label\", predictionCol=\"prediction\")\n",
    "    results = {\n",
    "        \"Model\": model_name,\n",
    "        \"Accuracy\": evaluator.setMetricName(\"accuracy\").evaluate(predictions),\n",
    "        \"Weighted Precision\": evaluator.setMetricName(\"weightedPrecision\").evaluate(predictions),\n",
    "        \"Weighted Recall\": evaluator.setMetricName(\"weightedRecall\").evaluate(predictions),\n",
    "        \"Weighted F1 Score\": evaluator.setMetricName(\"weightedFMeasure\").evaluate(predictions),\n",
    "    }\n",
    "\n",
    "    # Per-class metrics\n",
    "    for label in [0, 1, 2]:\n",
    "        results[f\"Class {label} Precision\"] = evaluator.evaluate(predictions, {\n",
    "            evaluator.metricName: \"precisionByLabel\",\n",
    "            evaluator.metricLabel: label\n",
    "        })\n",
    "        results[f\"Class {label} Recall\"] = evaluator.evaluate(predictions, {\n",
    "            evaluator.metricName: \"recallByLabel\",\n",
    "            evaluator.metricLabel: label\n",
    "        })\n",
    "        results[f\"Class {label} F1 Score\"] = evaluator.evaluate(predictions, {\n",
    "            evaluator.metricName: \"fMeasureByLabel\",\n",
    "            evaluator.metricLabel: label\n",
    "        })\n",
    "\n",
    "    return results\n",
    "\n",
    "# Run evaluations for all models\n",
    "lr_results = evaluate_model(lr_predictions, \"Logistic Regression\")\n",
    "rf_results = evaluate_model(rf_predictions, \"Random Forest\")\n",
    "mlp_results = evaluate_model(mlp_predictions, \"Multilayer Perceptron\")\n",
    "\n",
    "# Create comparison table\n",
    "comparison_df = pd.DataFrame([lr_results, rf_results, mlp_results])\n",
    "comparison_df = comparison_df.set_index(\"Model\")  # Make model names row index\n",
    "comparison_df = comparison_df.round(3)  # Round for readability\n",
    "\n",
    "# Display\n",
    "comparison_df.T  # Transpose for vertical view\n"
   ]
  },
  {
   "cell_type": "markdown",
   "metadata": {
    "application/vnd.databricks.v1+cell": {
     "cellMetadata": {
      "byteLimit": 2048000,
      "rowLimit": 10000
     },
     "inputWidgets": {},
     "nuid": "f2eca35f-c866-42e1-9589-ef718e4c447d",
     "showTitle": false,
     "tableResultSettingsMap": {},
     "title": ""
    }
   },
   "source": [
    "## Visualization"
   ]
  },
  {
   "cell_type": "code",
   "execution_count": 0,
   "metadata": {
    "application/vnd.databricks.v1+cell": {
     "cellMetadata": {
      "byteLimit": 2048000,
      "rowLimit": 10000
     },
     "inputWidgets": {},
     "nuid": "bca0536b-4826-4d67-b1c0-89f7192f3e05",
     "showTitle": false,
     "tableResultSettingsMap": {},
     "title": ""
    }
   },
   "outputs": [
    {
     "output_type": "display_data",
     "data": {
      "image/png": "[encoded data removed]",
      "text/plain": [
       "<Figure size 1000x600 with 1 Axes>"
      ]
     },
     "metadata": {},
     "output_type": "display_data"
    }
   ],
   "source": [
    "import matplotlib.pyplot as plt\n",
    "\n",
    "# Pick the metrics you want to visualize\n",
    "metrics_to_plot = [\n",
    "    \"Accuracy\",\n",
    "    \"Weighted Precision\",\n",
    "    \"Weighted Recall\",\n",
    "    \"Weighted F1 Score\"\n",
    "]\n",
    "\n",
    "# Subset the comparison DataFrame\n",
    "plot_df = comparison_df[metrics_to_plot]\n",
    "\n",
    "# Transpose so we can plot each model as a group\n",
    "plot_df.T.plot(kind=\"bar\", figsize=(10, 6), rot=0)\n",
    "\n",
    "# Add labels and title\n",
    "plt.title(\"Model Performance Comparison\")\n",
    "plt.ylabel(\"Score\")\n",
    "plt.xlabel(\"Metric\")\n",
    "plt.ylim(0, 1.05)  # Metrics are all between 0 and 1\n",
    "plt.legend(title=\"Model\")\n",
    "plt.grid(axis=\"y\", linestyle=\"--\", alpha=0.7)\n",
    "\n",
    "# Show the plot\n",
    "plt.tight_layout()\n",
    "plt.show()\n"
   ]
  },
  {
   "cell_type": "markdown",
   "metadata": {
    "application/vnd.databricks.v1+cell": {
     "cellMetadata": {
      "byteLimit": 2048000,
      "rowLimit": 10000
     },
     "inputWidgets": {},
     "nuid": "91b736b5-1364-42ee-8e50-083db083900a",
     "showTitle": false,
     "tableResultSettingsMap": {},
     "title": ""
    }
   },
   "source": [
    "# Class balancing"
   ]
  },
  {
   "cell_type": "code",
   "execution_count": 0,
   "metadata": {
    "application/vnd.databricks.v1+cell": {
     "cellMetadata": {
      "byteLimit": 2048000,
      "rowLimit": 10000
     },
     "inputWidgets": {},
     "nuid": "2d4e6368-7444-4556-83f0-0a0c324ec022",
     "showTitle": false,
     "tableResultSettingsMap": {},
     "title": ""
    }
   },
   "outputs": [
    {
     "output_type": "stream",
     "name": "stdout",
     "output_type": "stream",
     "text": [
      "+-------------------+------+\n|Thyroid_Cancer_Risk| count|\n+-------------------+------+\n|               High| 31903|\n|             Medium| 72400|\n|                Low|108388|\n+-------------------+------+\n\n✅ Balanced dataset created!\n"
     ]
    }
   ],
   "source": [
    "from pyspark.sql import functions as F\n",
    "\n",
    "# Check distribution (optional)\n",
    "df.groupBy(\"Thyroid_Cancer_Risk\").count().orderBy(\"count\").show()\n",
    "\n",
    "# Split by class\n",
    "df_low = df.filter(df.Thyroid_Cancer_Risk == \"Low\")\n",
    "df_med = df.filter(df.Thyroid_Cancer_Risk == \"Medium\")\n",
    "df_high = df.filter(df.Thyroid_Cancer_Risk == \"High\")\n",
    "\n",
    "# Oversample the minority class (\"Medium\")\n",
    "target_size = max(df_low.count(), df_high.count())\n",
    "df_med_oversampled = df_med.sample(withReplacement=True, fraction=(target_size / df_med.count()), seed=42)\n",
    "\n",
    "# Combine and shuffle\n",
    "balanced_df = df_low.union(df_high).union(df_med_oversampled)\n",
    "balanced_df = balanced_df.orderBy(F.rand(seed=42))\n",
    "\n",
    "print(\"✅ Balanced dataset created!\")\n"
   ]
  },
  {
   "cell_type": "markdown",
   "metadata": {
    "application/vnd.databricks.v1+cell": {
     "cellMetadata": {
      "byteLimit": 2048000,
      "rowLimit": 10000
     },
     "inputWidgets": {},
     "nuid": "795bd536-5dc1-48b1-b04c-1235cefdd21c",
     "showTitle": false,
     "tableResultSettingsMap": {},
     "title": ""
    }
   },
   "source": [
    "### View new balance"
   ]
  },
  {
   "cell_type": "code",
   "execution_count": 0,
   "metadata": {
    "application/vnd.databricks.v1+cell": {
     "cellMetadata": {
      "byteLimit": 2048000,
      "rowLimit": 10000
     },
     "inputWidgets": {},
     "nuid": "95ae3f95-779d-49b7-a037-2e3bc4301efe",
     "showTitle": false,
     "tableResultSettingsMap": {},
     "title": ""
    }
   },
   "outputs": [
    {
     "output_type": "stream",
     "name": "stdout",
     "output_type": "stream",
     "text": [
      "+-------------------+------+\n|Thyroid_Cancer_Risk| count|\n+-------------------+------+\n|               High| 31903|\n|                Low|108388|\n|             Medium|107930|\n+-------------------+------+\n\n"
     ]
    }
   ],
   "source": [
    "balanced_df.groupBy(\"Thyroid_Cancer_Risk\").count().orderBy(\"Thyroid_Cancer_Risk\").show()\n"
   ]
  },
  {
   "cell_type": "markdown",
   "metadata": {
    "application/vnd.databricks.v1+cell": {
     "cellMetadata": {
      "byteLimit": 2048000,
      "rowLimit": 10000
     },
     "inputWidgets": {},
     "nuid": "2247dc3c-ca9d-4f9a-821b-a0a74b8565d2",
     "showTitle": false,
     "tableResultSettingsMap": {},
     "title": ""
    }
   },
   "source": [
    "## Split the balanced dataset"
   ]
  },
  {
   "cell_type": "code",
   "execution_count": 0,
   "metadata": {
    "application/vnd.databricks.v1+cell": {
     "cellMetadata": {
      "byteLimit": 2048000,
      "rowLimit": 10000
     },
     "inputWidgets": {},
     "nuid": "898d6799-2ead-41c1-8490-4422f59bfdd0",
     "showTitle": false,
     "tableResultSettingsMap": {},
     "title": ""
    }
   },
   "outputs": [],
   "source": [
    "# Use new variable names to preserve the original\n",
    "balanced_train_df, balanced_test_df = balanced_df.randomSplit([0.7, 0.3], seed=42)\n"
   ]
  },
  {
   "cell_type": "markdown",
   "metadata": {
    "application/vnd.databricks.v1+cell": {
     "cellMetadata": {
      "byteLimit": 2048000,
      "rowLimit": 10000
     },
     "inputWidgets": {},
     "nuid": "9f2e2848-631a-4d66-84f5-5dc829234b21",
     "showTitle": false,
     "tableResultSettingsMap": {},
     "title": ""
    }
   },
   "source": [
    "# Random Forest - balanced"
   ]
  },
  {
   "cell_type": "markdown",
   "metadata": {
    "application/vnd.databricks.v1+cell": {
     "cellMetadata": {
      "byteLimit": 2048000,
      "rowLimit": 10000
     },
     "inputWidgets": {},
     "nuid": "a714bbc3-1995-4c4a-8771-46b8a51f0a12",
     "showTitle": false,
     "tableResultSettingsMap": {},
     "title": ""
    }
   },
   "source": [
    "## Train random forest"
   ]
  },
  {
   "cell_type": "code",
   "execution_count": 0,
   "metadata": {
    "application/vnd.databricks.v1+cell": {
     "cellMetadata": {
      "byteLimit": 2048000,
      "rowLimit": 10000
     },
     "inputWidgets": {},
     "nuid": "09d4d235-1d62-40b4-a13d-73b9a30e02a8",
     "showTitle": false,
     "tableResultSettingsMap": {},
     "title": ""
    }
   },
   "outputs": [
    {
     "output_type": "stream",
     "name": "stdout",
     "output_type": "stream",
     "text": [
      "✅ Random Forest model retrained on balanced data!\n"
     ]
    }
   ],
   "source": [
    "# Re-train Random Forest using the balanced dataset\n",
    "rf_model_balanced = rf_pipeline.fit(balanced_train_df)\n",
    "\n",
    "# Make predictions on the balanced test set\n",
    "rf_predictions_balanced = rf_model_balanced.transform(balanced_test_df)\n",
    "\n",
    "print(\"✅ Random Forest model retrained on balanced data!\")\n"
   ]
  },
  {
   "cell_type": "markdown",
   "metadata": {
    "application/vnd.databricks.v1+cell": {
     "cellMetadata": {
      "byteLimit": 2048000,
      "rowLimit": 10000
     },
     "inputWidgets": {},
     "nuid": "be2e3eea-01ae-4664-b34a-44655eaca56c",
     "showTitle": false,
     "tableResultSettingsMap": {},
     "title": ""
    }
   },
   "source": [
    "## Evaluate model"
   ]
  },
  {
   "cell_type": "code",
   "execution_count": 0,
   "metadata": {
    "application/vnd.databricks.v1+cell": {
     "cellMetadata": {
      "byteLimit": 2048000,
      "rowLimit": 10000
     },
     "inputWidgets": {},
     "nuid": "6607f9b5-56aa-41a0-a851-8ee5a9d75976",
     "showTitle": false,
     "tableResultSettingsMap": {},
     "title": ""
    }
   },
   "outputs": [
    {
     "output_type": "stream",
     "name": "stdout",
     "output_type": "stream",
     "text": [
      "✅ Accuracy: 0.576\n\n🔍 Per-Class Metrics:\nClass 0:\n\tPrecision: 0.513\n\tRecall:    0.631\n\tF1 Score:  0.568\nClass 1:\n\tPrecision: 0.517\n\tRecall:    0.396\n\tF1 Score:  0.447\nClass 2:\n\tPrecision: 1.000\n\tRecall:    1.000\n\tF1 Score:  1.000\n\n📊 Weighted Overall Metrics:\nWeighted Precision: 0.574\nWeighted Recall:    0.575\nWeighted F1 Score:  0.565\n"
     ]
    }
   ],
   "source": [
    "from pyspark.ml.evaluation import MulticlassClassificationEvaluator\n",
    "\n",
    "# Set predictions to balanced Random Forest output\n",
    "predictions = rf_predictions_balanced\n",
    "\n",
    "# Initialize evaluator\n",
    "evaluator = MulticlassClassificationEvaluator(labelCol=\"label\", predictionCol=\"prediction\")\n",
    "\n",
    "# ✅ Overall Accuracy\n",
    "accuracy = evaluator.evaluate(predictions, {evaluator.metricName: \"accuracy\"})\n",
    "print(f\"✅ Accuracy: {accuracy:.3f}\")\n",
    "\n",
    "# ✅ Per-Class Metrics\n",
    "labels = [0, 1, 2]  # Assuming 0 = Low, 1 = Medium, 2 = High\n",
    "\n",
    "print(\"\\n🔍 Per-Class Metrics:\")\n",
    "for label in labels:\n",
    "    precision = evaluator.evaluate(predictions, {\n",
    "        evaluator.metricName: \"precisionByLabel\",\n",
    "        evaluator.metricLabel: label\n",
    "    })\n",
    "    recall = evaluator.evaluate(predictions, {\n",
    "        evaluator.metricName: \"recallByLabel\",\n",
    "        evaluator.metricLabel: label\n",
    "    })\n",
    "    f1 = evaluator.evaluate(predictions, {\n",
    "        evaluator.metricName: \"fMeasureByLabel\",\n",
    "        evaluator.metricLabel: label\n",
    "    })\n",
    "\n",
    "    print(f\"Class {label}:\")\n",
    "    print(f\"\\tPrecision: {precision:.3f}\")\n",
    "    print(f\"\\tRecall:    {recall:.3f}\")\n",
    "    print(f\"\\tF1 Score:  {f1:.3f}\")\n",
    "\n",
    "# ✅ Weighted Overall Metrics\n",
    "print(\"\\n📊 Weighted Overall Metrics:\")\n",
    "weighted_precision = evaluator.evaluate(predictions, {evaluator.metricName: \"weightedPrecision\"})\n",
    "weighted_recall = evaluator.evaluate(predictions, {evaluator.metricName: \"weightedRecall\"})\n",
    "weighted_f1 = evaluator.evaluate(predictions, {evaluator.metricName: \"weightedFMeasure\"})\n",
    "\n",
    "print(f\"Weighted Precision: {weighted_precision:.3f}\")\n",
    "print(f\"Weighted Recall:    {weighted_recall:.3f}\")\n",
    "print(f\"Weighted F1 Score:  {weighted_f1:.3f}\")\n"
   ]
  },
  {
   "cell_type": "markdown",
   "metadata": {
    "application/vnd.databricks.v1+cell": {
     "cellMetadata": {
      "byteLimit": 2048000,
      "rowLimit": 10000
     },
     "inputWidgets": {},
     "nuid": "7e931b03-d12e-4d1e-aa72-4501e1016f3f",
     "showTitle": false,
     "tableResultSettingsMap": {},
     "title": ""
    }
   },
   "source": [
    "# Logistic Regression - balanced"
   ]
  },
  {
   "cell_type": "markdown",
   "metadata": {
    "application/vnd.databricks.v1+cell": {
     "cellMetadata": {
      "byteLimit": 2048000,
      "rowLimit": 10000
     },
     "inputWidgets": {},
     "nuid": "415e9bd7-7190-4dca-bebf-640d64a10cf9",
     "showTitle": false,
     "tableResultSettingsMap": {},
     "title": ""
    }
   },
   "source": [
    "## Train logistic regresstion"
   ]
  },
  {
   "cell_type": "code",
   "execution_count": 0,
   "metadata": {
    "application/vnd.databricks.v1+cell": {
     "cellMetadata": {
      "byteLimit": 2048000,
      "rowLimit": 10000
     },
     "inputWidgets": {},
     "nuid": "08fede76-f0f6-4638-a452-fead7cb96da0",
     "showTitle": false,
     "tableResultSettingsMap": {},
     "title": ""
    }
   },
   "outputs": [
    {
     "output_type": "stream",
     "name": "stdout",
     "output_type": "stream",
     "text": [
      "✅ Logistic Regression retrained on balanced dataset!\n"
     ]
    }
   ],
   "source": [
    "# Train logistic regression on the balanced data\n",
    "lr_model_balanced = lr_pipeline.fit(balanced_train_df)\n",
    "\n",
    "# Make predictions\n",
    "lr_predictions_balanced = lr_model_balanced.transform(balanced_test_df)\n",
    "\n",
    "print(\"✅ Logistic Regression retrained on balanced dataset!\")\n"
   ]
  },
  {
   "cell_type": "markdown",
   "metadata": {
    "application/vnd.databricks.v1+cell": {
     "cellMetadata": {
      "byteLimit": 2048000,
      "rowLimit": 10000
     },
     "inputWidgets": {},
     "nuid": "2a3a01ca-1067-4852-b0bc-41e472288f90",
     "showTitle": false,
     "tableResultSettingsMap": {},
     "title": ""
    }
   },
   "source": [
    "## Evaluate model"
   ]
  },
  {
   "cell_type": "code",
   "execution_count": 0,
   "metadata": {
    "application/vnd.databricks.v1+cell": {
     "cellMetadata": {
      "byteLimit": 2048000,
      "rowLimit": 10000
     },
     "inputWidgets": {},
     "nuid": "82ed099b-070c-4d3d-af2c-cd85a41aeccc",
     "showTitle": false,
     "tableResultSettingsMap": {},
     "title": ""
    }
   },
   "outputs": [
    {
     "output_type": "stream",
     "name": "stdout",
     "output_type": "stream",
     "text": [
      "✅ Accuracy: 0.451\n\n🔍 Per-Class Metrics:\nClass 0:\n\tPrecision: 0.441\n\tRecall:    0.721\n\tF1 Score:  0.547\nClass 1:\n\tPrecision: 0.479\n\tRecall:    0.254\n\tF1 Score:  0.330\nClass 2:\n\tPrecision: 0.531\n\tRecall:    0.221\n\tF1 Score:  0.303\n\n📊 Weighted Overall Metrics:\nWeighted Precision: 0.467\nWeighted Recall:    0.452\nWeighted F1 Score:  0.424\n"
     ]
    }
   ],
   "source": [
    "from pyspark.ml.evaluation import MulticlassClassificationEvaluator\n",
    "\n",
    "# Evaluate using balanced predictions\n",
    "predictions = lr_predictions_balanced\n",
    "\n",
    "evaluator = MulticlassClassificationEvaluator(labelCol=\"label\", predictionCol=\"prediction\")\n",
    "\n",
    "# Overall Accuracy\n",
    "accuracy = evaluator.evaluate(predictions, {evaluator.metricName: \"accuracy\"})\n",
    "print(f\"✅ Accuracy: {accuracy:.3f}\")\n",
    "\n",
    "# Per-class metrics\n",
    "labels = [0, 1, 2]\n",
    "\n",
    "print(\"\\n🔍 Per-Class Metrics:\")\n",
    "for label in labels:\n",
    "    precision = evaluator.evaluate(predictions, {\n",
    "        evaluator.metricName: \"precisionByLabel\",\n",
    "        evaluator.metricLabel: label\n",
    "    })\n",
    "    recall = evaluator.evaluate(predictions, {\n",
    "        evaluator.metricName: \"recallByLabel\",\n",
    "        evaluator.metricLabel: label\n",
    "    })\n",
    "    f1 = evaluator.evaluate(predictions, {\n",
    "        evaluator.metricName: \"fMeasureByLabel\",\n",
    "        evaluator.metricLabel: label\n",
    "    })\n",
    "\n",
    "    print(f\"Class {label}:\")\n",
    "    print(f\"\\tPrecision: {precision:.3f}\")\n",
    "    print(f\"\\tRecall:    {recall:.3f}\")\n",
    "    print(f\"\\tF1 Score:  {f1:.3f}\")\n",
    "\n",
    "# Weighted metrics\n",
    "print(\"\\n📊 Weighted Overall Metrics:\")\n",
    "weighted_precision = evaluator.evaluate(predictions, {evaluator.metricName: \"weightedPrecision\"})\n",
    "weighted_recall = evaluator.evaluate(predictions, {evaluator.metricName: \"weightedRecall\"})\n",
    "weighted_f1 = evaluator.evaluate(predictions, {evaluator.metricName: \"weightedFMeasure\"})\n",
    "\n",
    "print(f\"Weighted Precision: {weighted_precision:.3f}\")\n",
    "print(f\"Weighted Recall:    {weighted_recall:.3f}\")\n",
    "print(f\"Weighted F1 Score:  {weighted_f1:.3f}\")\n"
   ]
  },
  {
   "cell_type": "markdown",
   "metadata": {
    "application/vnd.databricks.v1+cell": {
     "cellMetadata": {
      "byteLimit": 2048000,
      "rowLimit": 10000
     },
     "inputWidgets": {},
     "nuid": "6fb40b9e-4b11-443e-a3b5-6b5e65ffdeb9",
     "showTitle": false,
     "tableResultSettingsMap": {},
     "title": ""
    }
   },
   "source": [
    "# Multilayer Perceptron Classifier - balanced"
   ]
  },
  {
   "cell_type": "code",
   "execution_count": 0,
   "metadata": {
    "application/vnd.databricks.v1+cell": {
     "cellMetadata": {
      "byteLimit": 2048000,
      "rowLimit": 10000
     },
     "inputWidgets": {},
     "nuid": "bbfe82c2-5979-46bf-8666-d74b5590054d",
     "showTitle": false,
     "tableResultSettingsMap": {},
     "title": ""
    }
   },
   "outputs": [],
   "source": [
    "mlp_pipeline = Pipeline(stages=indexers + [assembler, scaler, label_indexer, mlp])\n"
   ]
  },
  {
   "cell_type": "code",
   "execution_count": 0,
   "metadata": {
    "application/vnd.databricks.v1+cell": {
     "cellMetadata": {
      "byteLimit": 2048000,
      "rowLimit": 10000
     },
     "inputWidgets": {},
     "nuid": "660ade2c-117e-4a29-8f63-000a87dc67f7",
     "showTitle": false,
     "tableResultSettingsMap": {},
     "title": ""
    }
   },
   "outputs": [
    {
     "output_type": "stream",
     "name": "stdout",
     "output_type": "stream",
     "text": [
      "✅ Multilayer Perceptron retrained on balanced dataset!\n"
     ]
    }
   ],
   "source": [
    "# Train MLP on balanced data\n",
    "mlp_model_balanced = mlp_pipeline.fit(balanced_train_df)\n",
    "\n",
    "# Make predictions\n",
    "mlp_predictions_balanced = mlp_model_balanced.transform(balanced_test_df)\n",
    "\n",
    "print(\"✅ Multilayer Perceptron retrained on balanced dataset!\")\n"
   ]
  },
  {
   "cell_type": "markdown",
   "metadata": {
    "application/vnd.databricks.v1+cell": {
     "cellMetadata": {
      "byteLimit": 2048000,
      "rowLimit": 10000
     },
     "inputWidgets": {},
     "nuid": "7e989ad6-2388-4964-b5b3-8ef1627de48e",
     "showTitle": false,
     "tableResultSettingsMap": {},
     "title": ""
    }
   },
   "source": [
    "## Evaluate model"
   ]
  },
  {
   "cell_type": "code",
   "execution_count": 0,
   "metadata": {
    "application/vnd.databricks.v1+cell": {
     "cellMetadata": {
      "byteLimit": 2048000,
      "rowLimit": 10000
     },
     "inputWidgets": {},
     "nuid": "a7bfea59-d49c-4933-8360-c8223e94a58d",
     "showTitle": false,
     "tableResultSettingsMap": {},
     "title": ""
    }
   },
   "outputs": [
    {
     "output_type": "stream",
     "name": "stdout",
     "output_type": "stream",
     "text": [
      "✅ Accuracy: 0.564\n\n🔍 Per-Class Metrics:\nClass 0:\n\tPrecision: 0.498\n\tRecall:    0.654\n\tF1 Score:  0.567\nClass 1:\n\tPrecision: 0.497\n\tRecall:    0.346\n\tF1 Score:  0.413\nClass 2:\n\tPrecision: 1.000\n\tRecall:    1.000\n\tF1 Score:  1.000\n\n📊 Weighted Overall Metrics:\nWeighted Precision: 0.564\nWeighted Recall:    0.565\nWeighted F1 Score:  0.552\n"
     ]
    }
   ],
   "source": [
    "from pyspark.ml.evaluation import MulticlassClassificationEvaluator\n",
    "\n",
    "# Set predictions to balanced MLP output\n",
    "predictions = mlp_predictions_balanced\n",
    "\n",
    "# Initialize evaluator\n",
    "evaluator = MulticlassClassificationEvaluator(labelCol=\"label\", predictionCol=\"prediction\")\n",
    "\n",
    "# ✅ Overall Accuracy\n",
    "accuracy = evaluator.evaluate(predictions, {evaluator.metricName: \"accuracy\"})\n",
    "print(f\"✅ Accuracy: {accuracy:.3f}\")\n",
    "\n",
    "# ✅ Per-Class Metrics\n",
    "labels = [0, 1, 2]\n",
    "\n",
    "print(\"\\n🔍 Per-Class Metrics:\")\n",
    "for label in labels:\n",
    "    precision = evaluator.evaluate(predictions, {\n",
    "        evaluator.metricName: \"precisionByLabel\",\n",
    "        evaluator.metricLabel: label\n",
    "    })\n",
    "    recall = evaluator.evaluate(predictions, {\n",
    "        evaluator.metricName: \"recallByLabel\",\n",
    "        evaluator.metricLabel: label\n",
    "    })\n",
    "    f1 = evaluator.evaluate(predictions, {\n",
    "        evaluator.metricName: \"fMeasureByLabel\",\n",
    "        evaluator.metricLabel: label\n",
    "    })\n",
    "\n",
    "    print(f\"Class {label}:\")\n",
    "    print(f\"\\tPrecision: {precision:.3f}\")\n",
    "    print(f\"\\tRecall:    {recall:.3f}\")\n",
    "    print(f\"\\tF1 Score:  {f1:.3f}\")\n",
    "\n",
    "# ✅ Weighted Overall Metrics\n",
    "print(\"\\n📊 Weighted Overall Metrics:\")\n",
    "weighted_precision = evaluator.evaluate(predictions, {evaluator.metricName: \"weightedPrecision\"})\n",
    "weighted_recall = evaluator.evaluate(predictions, {evaluator.metricName: \"weightedRecall\"})\n",
    "weighted_f1 = evaluator.evaluate(predictions, {evaluator.metricName: \"weightedFMeasure\"})\n",
    "\n",
    "print(f\"Weighted Precision: {weighted_precision:.3f}\")\n",
    "print(f\"Weighted Recall:    {weighted_recall:.3f}\")\n",
    "print(f\"Weighted F1 Score:  {weighted_f1:.3f}\")\n"
   ]
  },
  {
   "cell_type": "markdown",
   "metadata": {
    "application/vnd.databricks.v1+cell": {
     "cellMetadata": {
      "byteLimit": 2048000,
      "rowLimit": 10000
     },
     "inputWidgets": {},
     "nuid": "a41f2f70-92cd-4dd6-a4a0-0421d4addf3b",
     "showTitle": false,
     "tableResultSettingsMap": {},
     "title": ""
    }
   },
   "source": [
    "# Compare balanced results"
   ]
  },
  {
   "cell_type": "code",
   "execution_count": 0,
   "metadata": {
    "application/vnd.databricks.v1+cell": {
     "cellMetadata": {
      "byteLimit": 2048000,
      "rowLimit": 10000
     },
     "inputWidgets": {},
     "nuid": "c5eb52db-015e-4197-acf1-fedbf15223fc",
     "showTitle": false,
     "tableResultSettingsMap": {},
     "title": ""
    }
   },
   "outputs": [
    {
     "output_type": "execute_result",
     "data": {
      "text/html": [
       "<div>\n",
       "<style scoped>\n",
       "    .dataframe tbody tr th:only-of-type {\n",
       "        vertical-align: middle;\n",
       "    }\n",
       "\n",
       "    .dataframe tbody tr th {\n",
       "        vertical-align: top;\n",
       "    }\n",
       "\n",
       "    .dataframe thead th {\n",
       "        text-align: right;\n",
       "    }\n",
       "</style>\n",
       "<table border=\"1\" class=\"dataframe\">\n",
       "  <thead>\n",
       "    <tr style=\"text-align: right;\">\n",
       "      <th>Model</th>\n",
       "      <th>Logistic Regression (Balanced)</th>\n",
       "      <th>Random Forest (Balanced)</th>\n",
       "      <th>Multilayer Perceptron (Balanced)</th>\n",
       "    </tr>\n",
       "  </thead>\n",
       "  <tbody>\n",
       "    <tr>\n",
       "      <th>Accuracy</th>\n",
       "      <td>0.453</td>\n",
       "      <td>0.576</td>\n",
       "      <td>0.564</td>\n",
       "    </tr>\n",
       "    <tr>\n",
       "      <th>Weighted Precision</th>\n",
       "      <td>0.466</td>\n",
       "      <td>0.572</td>\n",
       "      <td>0.563</td>\n",
       "    </tr>\n",
       "    <tr>\n",
       "      <th>Weighted Recall</th>\n",
       "      <td>0.453</td>\n",
       "      <td>0.574</td>\n",
       "      <td>0.564</td>\n",
       "    </tr>\n",
       "    <tr>\n",
       "      <th>Weighted F1 Score</th>\n",
       "      <td>0.422</td>\n",
       "      <td>0.569</td>\n",
       "      <td>0.552</td>\n",
       "    </tr>\n",
       "    <tr>\n",
       "      <th>Class 0 F1</th>\n",
       "      <td>0.553</td>\n",
       "      <td>0.565</td>\n",
       "      <td>0.566</td>\n",
       "    </tr>\n",
       "    <tr>\n",
       "      <th>Class 1 F1</th>\n",
       "      <td>0.336</td>\n",
       "      <td>0.442</td>\n",
       "      <td>0.410</td>\n",
       "    </tr>\n",
       "    <tr>\n",
       "      <th>Class 2 F1</th>\n",
       "      <td>0.315</td>\n",
       "      <td>1.000</td>\n",
       "      <td>1.000</td>\n",
       "    </tr>\n",
       "  </tbody>\n",
       "</table>\n",
       "</div>"
      ],
      "text/plain": [
       "Model               Logistic Regression (Balanced)  ...  Multilayer Perceptron (Balanced)\n",
       "Accuracy                                     0.453  ...                             0.564\n",
       "Weighted Precision                           0.466  ...                             0.563\n",
       "Weighted Recall                              0.453  ...                             0.564\n",
       "Weighted F1 Score                            0.422  ...                             0.552\n",
       "Class 0 F1                                   0.553  ...                             0.566\n",
       "Class 1 F1                                   0.336  ...                             0.410\n",
       "Class 2 F1                                   0.315  ...                             1.000\n",
       "\n",
       "[7 rows x 3 columns]"
      ]
     },
     "execution_count": 30,
     "metadata": {},
     "output_type": "execute_result"
    }
   ],
   "source": [
    "from pyspark.ml.evaluation import MulticlassClassificationEvaluator\n",
    "import pandas as pd\n",
    "\n",
    "# 🧠 Helper function to evaluate a balanced model\n",
    "def evaluate_balanced_model(predictions, model_name):\n",
    "    evaluator = MulticlassClassificationEvaluator(labelCol=\"label\", predictionCol=\"prediction\")\n",
    "    result = {\n",
    "        \"Model\": model_name + \" (Balanced)\",\n",
    "        \"Accuracy\": evaluator.setMetricName(\"accuracy\").evaluate(predictions),\n",
    "        \"Weighted Precision\": evaluator.setMetricName(\"weightedPrecision\").evaluate(predictions),\n",
    "        \"Weighted Recall\": evaluator.setMetricName(\"weightedRecall\").evaluate(predictions),\n",
    "        \"Weighted F1 Score\": evaluator.setMetricName(\"weightedFMeasure\").evaluate(predictions),\n",
    "    }\n",
    "\n",
    "    # Per-Class F1 Scores\n",
    "    for label in [0, 1, 2]:\n",
    "        f1 = evaluator.evaluate(predictions, {\n",
    "            evaluator.metricName: \"fMeasureByLabel\",\n",
    "            evaluator.metricLabel: label\n",
    "        })\n",
    "        result[f\"Class {label} F1\"] = f1\n",
    "\n",
    "    return result\n",
    "\n",
    "# ✅ Evaluate each balanced model separately\n",
    "lr_balanced_results = evaluate_balanced_model(lr_predictions_balanced, \"Logistic Regression\")\n",
    "rf_balanced_results = evaluate_balanced_model(rf_predictions_balanced, \"Random Forest\")\n",
    "mlp_balanced_results = evaluate_balanced_model(mlp_predictions_balanced, \"Multilayer Perceptron\")\n",
    "\n",
    "# ✅ Combine into a single DataFrame\n",
    "balanced_comparison_df = pd.DataFrame([\n",
    "    lr_balanced_results,\n",
    "    rf_balanced_results,\n",
    "    mlp_balanced_results\n",
    "])\n",
    "\n",
    "# ✅ Format and display\n",
    "balanced_comparison_df = balanced_comparison_df.round(3)\n",
    "balanced_comparison_df.set_index(\"Model\", inplace=True)\n",
    "balanced_comparison_df.T  # Transpose for cleaner view\n"
   ]
  },
  {
   "cell_type": "markdown",
   "metadata": {
    "application/vnd.databricks.v1+cell": {
     "cellMetadata": {},
     "inputWidgets": {},
     "nuid": "0237513d-6388-46d7-a191-4fcf3eb20a71",
     "showTitle": false,
     "tableResultSettingsMap": {},
     "title": ""
    }
   },
   "source": [
    "## Visualize result"
   ]
  },
  {
   "cell_type": "code",
   "execution_count": 0,
   "metadata": {
    "application/vnd.databricks.v1+cell": {
     "cellMetadata": {
      "byteLimit": 2048000,
      "rowLimit": 10000
     },
     "inputWidgets": {},
     "nuid": "e56598d3-76da-4e7b-a8ad-894976ebbe48",
     "showTitle": false,
     "tableResultSettingsMap": {},
     "title": ""
    }
   },
   "outputs": [
    {
     "output_type": "stream",
     "name": "stderr",
     "output_type": "stream",
     "text": [
      "/root/.ipykernel/977/command-7396117491965212-2877915401:24: UserWarning: Glyph 128202 (\\N{BAR CHART}) missing from current font.\n  plt.tight_layout()\n/databricks/python/lib/python3.11/site-packages/IPython/core/pylabtools.py:152: UserWarning: Glyph 128202 (\\N{BAR CHART}) missing from current font.\n  fig.canvas.print_figure(bytes_io, **kw)\n"
     ]
    },
    {
     "output_type": "display_data",
     "data": {
      "image/png": "[encoded data removed]",
      "text/plain": [
       "<Figure size 1000x600 with 1 Axes>"
      ]
     },
     "metadata": {},
     "output_type": "display_data"
    }
   ],
   "source": [
    "import matplotlib.pyplot as plt\n",
    "\n",
    "# Metrics to plot\n",
    "metrics_to_plot = [\n",
    "    \"Accuracy\",\n",
    "    \"Weighted Precision\",\n",
    "    \"Weighted Recall\",\n",
    "    \"Weighted F1 Score\"\n",
    "]\n",
    "\n",
    "# Select columns\n",
    "plot_df = balanced_comparison_df[metrics_to_plot]\n",
    "\n",
    "# Define blue color palette (one for each metric)\n",
    "shades_of_blue = ['#add8e6', '#87ceeb', '#4682b4', '#1e90ff']  # Light to dark blues\n",
    "\n",
    "# Plot\n",
    "ax = plot_df.plot(kind=\"bar\", figsize=(10, 6), rot=0, color=shades_of_blue)\n",
    "\n",
    "# Style\n",
    "plt.title(\"📊 Balanced Model Performance Comparison\", fontsize=14)\n",
    "plt.ylabel(\"Score\")\n",
    "plt.xlabel(\"Model\")\n",
    "plt.ylim(0, 1.05)\n",
    "plt.grid(axis=\"y\", linestyle=\"--\", alpha=0.7)\n",
    "plt.legend(title=\"Metric\", bbox_to_anchor=(1.05, 1), loc='upper left')\n",
    "\n",
    "plt.tight_layout()\n",
    "plt.show()\n"
   ]
  }
 ],
 "metadata": {
  "application/vnd.databricks.v1+notebook": {
   "computePreferences": null,
   "dashboards": [],
   "environmentMetadata": {
    "base_environment": "",
    "environment_version": "2"
   },
   "inputWidgetPreferences": null,
   "language": "python",
   "notebookMetadata": {
    "pythonIndentUnit": 4
   },
   "notebookName": "Final: Thyroid Cancer Prediction_2",
   "widgets": {}
  },
  "language_info": {
   "name": "python"
  }
 },
 "nbformat": 4,
 "nbformat_minor": 0
}